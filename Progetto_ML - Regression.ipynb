{
 "cells": [
  {
   "cell_type": "markdown",
   "id": "a2fd820c-59ea-48fb-aa35-2172620965d5",
   "metadata": {},
   "source": [
    "<b><font size=6>Project 3 Machine Learning - Regression<b>"
   ]
  },
  {
   "cell_type": "code",
   "execution_count": 1,
   "id": "19d7caf3-54d9-44a4-948e-6bb16bc8ceba",
   "metadata": {},
   "outputs": [],
   "source": [
    "%matplotlib inline\n",
    "\n",
    "import pandas as pd\n",
    "import seaborn as sns\n",
    "import numpy as np\n",
    "import numpy.ma as ma\n",
    "import matplotlib.pyplot as plt\n",
    "from sklearn.model_selection import train_test_split\n",
    "from sklearn.decomposition import PCA\n",
    "from sklearn.metrics import classification_report, confusion_matrix\n",
    "from sklearn.naive_bayes import GaussianNB\n",
    "from sklearn.linear_model import LinearRegression\n",
    "from sklearn.preprocessing import LabelEncoder\n",
    "from sklearn.preprocessing import StandardScaler\n",
    "from sklearn.model_selection import GridSearchCV\n",
    "from sklearn.model_selection import validation_curve\n",
    "from sklearn.model_selection import learning_curve\n",
    "from sklearn.ensemble import RandomForestClassifier\n",
    "from sklearn.metrics import mean_squared_error, mean_absolute_error\n",
    "from sklearn import svm\n",
    "from tqdm.notebook import tqdm\n",
    "from sklearn.metrics import mean_squared_error, r2_score"
   ]
  },
  {
   "cell_type": "code",
   "execution_count": 2,
   "id": "41938837-d697-44e6-9247-9073f7e9fe87",
   "metadata": {},
   "outputs": [],
   "source": [
    "label_encoder = LabelEncoder()\n",
    "scaler = StandardScaler()"
   ]
  },
  {
   "cell_type": "markdown",
   "id": "f509a5ba-82f6-4dc5-9b7d-6da93785c446",
   "metadata": {},
   "source": [
    "<b><font size=5>s_bytes_all<b>"
   ]
  },
  {
   "cell_type": "code",
   "execution_count": 4,
   "id": "220772ce-c12c-4a3e-9926-cd59f44fdfa8",
   "metadata": {},
   "outputs": [],
   "source": [
    "dfTest = pd.read_csv('https_test.csv')\n",
    "dfTrain = pd.read_csv('https_training.csv')\n",
    "dfTestBytes = dfTest.drop(columns=['c_ip', 'time', '_s_bytes_all', '_s_bytes_uniq']) \n",
    "dfTrainBytes = dfTrain.drop(columns=['c_ip', 'time', '_s_bytes_all', '_s_bytes_uniq']) "
   ]
  },
  {
   "cell_type": "code",
   "execution_count": 8,
   "id": "1c7e5fc5-f0ee-4207-b160-e3b4c19fac48",
   "metadata": {},
   "outputs": [],
   "source": [
    "X_train_bytes = dfTrainBytes.iloc[:, :-1]\n",
    "X_test_bytes = dfTestBytes.iloc[:, :-1]\n",
    "#print(X_train)\n",
    "y_train_bytes = dfTrain['_s_bytes_all']\n",
    "#y_train_bytes_labeled = pd.Categorical(y_train_bytes).codes\n",
    "y_test_bytes = dfTest['_s_bytes_all']\n",
    "#y_test_bytes_labeled = pd.Categorical(y_test_bytes).codes\n",
    "#print(X_train)"
   ]
  },
  {
   "cell_type": "code",
   "execution_count": 9,
   "id": "fe787c9a-b6aa-4764-a3fd-1ba01355e1d5",
   "metadata": {},
   "outputs": [],
   "source": [
    "scaler.fit(X_train_bytes)\n",
    "X_train_bytes_scaled, X_test_bytes_scaled = scaler.transform(X_train_bytes), scaler.transform(X_test_bytes)"
   ]
  },
  {
   "cell_type": "code",
   "execution_count": 10,
   "id": "8aa3eb15-9a29-4b2b-997c-603b9cdb9b7e",
   "metadata": {},
   "outputs": [],
   "source": [
    "X_train_bytes_scaled, X_val_bytes_scaled, y_train_bytes, y_val_bytes = train_test_split( # X -> features, y -> labels\n",
    "    X_train_bytes_scaled, # X\n",
    "    y_train_bytes, # y\n",
    "    #stratify = y_train_bytes, # stratify the dataset based on class labels\n",
    "    train_size = 0.5/0.7, # percentage of training set\n",
    "    random_state = 15 \n",
    ")"
   ]
  },
  {
   "cell_type": "code",
   "execution_count": 11,
   "id": "8917514e-f39a-4dd0-b767-ffd1ee1d0cff",
   "metadata": {},
   "outputs": [],
   "source": [
    "X_train_bytes_scaled = pd.DataFrame(X_train_bytes_scaled)\n",
    "X_test_bytes_scaled = pd.DataFrame(X_test_bytes_scaled)\n",
    "X_val_bytes_scaled = pd.DataFrame(X_val_bytes_scaled)\n",
    "\n",
    "correlation_matrix = X_train_bytes_scaled.corr().abs()"
   ]
  },
  {
   "cell_type": "code",
   "execution_count": 9,
   "id": "7150e578-551c-4192-95e0-3f20f76f804a",
   "metadata": {},
   "outputs": [
    {
     "name": "stdout",
     "output_type": "stream",
     "text": [
      "44 features are removed\n"
     ]
    }
   ],
   "source": [
    "# non l'ho eseguita\n",
    "def correlated_features_to_remove(correlation_matrix):\n",
    "    to_delete = []\n",
    "    for i, f1 in enumerate(correlation_matrix):\n",
    "        for j, f2 in enumerate(correlation_matrix) :\n",
    "            if ((i!=j) and (correlation_matrix.iloc[i, j]>0.8) and (f2 not in to_delete)):\n",
    "                to_delete.append(f1)\n",
    "                break\n",
    "    return to_delete\n",
    "\n",
    "to_delete = correlated_features_to_remove(correlation_matrix)\n",
    "\n",
    "print(len(to_delete), 'features are removed')"
   ]
  },
  {
   "cell_type": "code",
   "execution_count": 12,
   "id": "1b9e5cd3-9400-4a02-80ca-a009a7a6c283",
   "metadata": {},
   "outputs": [],
   "source": [
    "lr = LinearRegression()\n",
    "\n",
    "lr.fit(X_train_bytes_scaled, y_train_bytes)\n",
    "y_train_pred = lr.predict(X_train_bytes_scaled)\n",
    "y_val_pred = lr.predict(X_val_bytes_scaled)\n",
    "y_test_pred = lr.predict(X_test_bytes_scaled)"
   ]
  },
  {
   "cell_type": "code",
   "execution_count": 13,
   "id": "90409618-4e04-403e-847e-71a2202aa657",
   "metadata": {},
   "outputs": [],
   "source": [
    "def output_performance(trues_train, preds_train, trues_test, preds_test, trues_val, preds_val, model_name):\n",
    "    print(model_name)\n",
    "    print('Training set:')\n",
    "    print('Mean squared error:', mean_squared_error(trues_train, preds_train))\n",
    "    print('Mean absolute error:', mean_absolute_error(trues_train, preds_train))\n",
    "    print('Validation set:')\n",
    "    print('Mean squared error:', mean_squared_error(trues_val, preds_val))\n",
    "    print('Mean absolute error:', mean_absolute_error(trues_val, preds_val))\n",
    "    print('Test set:')\n",
    "    print('Mean squared error:', mean_squared_error(trues_test, preds_test))\n",
    "    print('Mean absolute error:', mean_absolute_error(trues_test, preds_test))\n",
    "    print()"
   ]
  },
  {
   "cell_type": "code",
   "execution_count": 14,
   "id": "a244efa4-0b2e-4e7c-b64b-5f829c12f7ec",
   "metadata": {},
   "outputs": [
    {
     "name": "stdout",
     "output_type": "stream",
     "text": [
      "Linear regression\n",
      "Training set:\n",
      "Mean squared error: 1395207801.439667\n",
      "Mean absolute error: 7419.953089454635\n",
      "Validation set:\n",
      "Mean squared error: 1956741308.7365372\n",
      "Mean absolute error: 7926.217410566657\n",
      "Test set:\n",
      "Mean squared error: 2756301600.1186166\n",
      "Mean absolute error: 8183.274109048822\n",
      "\n"
     ]
    }
   ],
   "source": [
    "output_performance(y_train_bytes, y_train_pred, y_test_bytes, y_test_pred, y_val_bytes, y_val_pred, 'Linear regression')"
   ]
  },
  {
   "cell_type": "code",
   "execution_count": null,
   "id": "1a609b4d-657d-4899-880d-8524ebd126ea",
   "metadata": {},
   "outputs": [],
   "source": [
    "def b_kb_converter(y_train_bytes, y_train_pred, y_test_bytes, y_test_pred):\n",
    "    kb = bytes / 1024\n",
    "    return kb"
   ]
  },
  {
   "cell_type": "code",
   "execution_count": 11,
   "id": "784b213c-6a1f-4d73-95f5-c2c8ce1acd63",
   "metadata": {},
   "outputs": [
    {
     "data": {
      "text/plain": [
       "(114580, 118)"
      ]
     },
     "execution_count": 11,
     "metadata": {},
     "output_type": "execute_result"
    }
   ],
   "source": [
    "X_test_bytes_scaled.shape"
   ]
  },
  {
   "cell_type": "code",
   "execution_count": 12,
   "id": "3204f558-a25a-411f-9399-677f682154b3",
   "metadata": {},
   "outputs": [
    {
     "data": {
      "text/plain": [
       "(114580,)"
      ]
     },
     "execution_count": 12,
     "metadata": {},
     "output_type": "execute_result"
    }
   ],
   "source": [
    "y_test_bytes.shape"
   ]
  },
  {
   "cell_type": "code",
   "execution_count": 13,
   "id": "ff9a0c6f-09e6-4fcd-8342-0b2d1511cc47",
   "metadata": {},
   "outputs": [
    {
     "data": {
      "text/plain": [
       "(114580,)"
      ]
     },
     "execution_count": 13,
     "metadata": {},
     "output_type": "execute_result"
    }
   ],
   "source": [
    "y_test_pred.shape"
   ]
  },
  {
   "cell_type": "code",
   "execution_count": 15,
   "id": "706b4f85-4b34-46a8-b376-4e5e0559e125",
   "metadata": {},
   "outputs": [
    {
     "name": "stdout",
     "output_type": "stream",
     "text": [
      "Mean Squared Error: 2756301600.1186166\n",
      "R-squared: 0.9999681263456192\n"
     ]
    }
   ],
   "source": [
    "mse = mean_squared_error(y_test_bytes, y_test_pred)\n",
    "r2 = r2_score(y_test_bytes, y_test_pred)\n",
    "\n",
    "print(f'Mean Squared Error: {mse}')\n",
    "print(f'R-squared: {r2}')\n",
    "\n",
    "# Plot dei risultati\n",
    "# plt.scatter(X_test_bytes_scaled, y_test_bytes, color='black')\n",
    "# plt.plot(X_test_bytes_scaled, y_test_pred, color='blue', linewidth=3)\n",
    "# plt.xlabel('Features')\n",
    "# plt.ylabel('s_bytes_all')\n",
    "# plt.title('Regression Results')\n",
    "# plt.show()"
   ]
  },
  {
   "cell_type": "code",
   "execution_count": 16,
   "id": "c42bbc6e-0be2-4af4-b4f6-7069eef1d3d8",
   "metadata": {},
   "outputs": [
    {
     "name": "stdout",
     "output_type": "stream",
     "text": [
      "CPU times: user 1min 24s, sys: 1min 53s, total: 3min 18s\n",
      "Wall time: 28.3 s\n"
     ]
    },
    {
     "data": {
      "text/plain": [
       "GridSearchCV(cv=5, estimator=LinearRegression(),\n",
       "             param_grid={'copy_X': [True, False],\n",
       "                         'fit_intercept': [True, False]},\n",
       "             scoring='neg_mean_absolute_error')"
      ]
     },
     "execution_count": 16,
     "metadata": {},
     "output_type": "execute_result"
    }
   ],
   "source": [
    "%%time\n",
    "\n",
    "lr = LinearRegression()\n",
    "param_grid = {'fit_intercept': [True, False], 'copy_X': [True, False]} # , 'normalize': [True, False]\n",
    "\n",
    "clf = GridSearchCV(lr, param_grid, scoring='neg_mean_absolute_error', cv=5)\n",
    "clf.fit(X_train_bytes_scaled, y_train_bytes)"
   ]
  },
  {
   "cell_type": "code",
   "execution_count": 17,
   "id": "268c57c3-c65f-4657-b987-8e2d5fc6110b",
   "metadata": {},
   "outputs": [
    {
     "data": {
      "text/plain": [
       "{'mean_fit_time': array([1.21519899, 1.28506894, 1.27895389, 1.23024669]),\n",
       " 'std_fit_time': array([0.15644521, 0.16582136, 0.15213994, 0.09282678]),\n",
       " 'mean_score_time': array([0.09061527, 0.09364424, 0.0628047 , 0.0833756 ]),\n",
       " 'std_score_time': array([0.00878147, 0.00446969, 0.03320459, 0.03079959]),\n",
       " 'param_copy_X': masked_array(data=[True, True, False, False],\n",
       "              mask=[False, False, False, False],\n",
       "        fill_value='?',\n",
       "             dtype=object),\n",
       " 'param_fit_intercept': masked_array(data=[True, False, True, False],\n",
       "              mask=[False, False, False, False],\n",
       "        fill_value='?',\n",
       "             dtype=object),\n",
       " 'params': [{'copy_X': True, 'fit_intercept': True},\n",
       "  {'copy_X': True, 'fit_intercept': False},\n",
       "  {'copy_X': False, 'fit_intercept': True},\n",
       "  {'copy_X': False, 'fit_intercept': False}],\n",
       " 'split0_test_score': array([-1.23769868e+13, -1.12226353e+13, -1.23769868e+13, -1.12226353e+13]),\n",
       " 'split1_test_score': array([  -7947.41090815, -359532.55882214,   -7947.41090815,\n",
       "        -359532.55882214]),\n",
       " 'split2_test_score': array([  -7976.04281329, -362321.77616816,   -7976.04281329,\n",
       "        -362321.77616816]),\n",
       " 'split3_test_score': array([  -7976.13282587, -359137.92515268,   -7976.13282587,\n",
       "        -359137.92515268]),\n",
       " 'split4_test_score': array([  -7160.84654733, -359697.78454765,   -7160.84654733,\n",
       "        -359697.78454765]),\n",
       " 'mean_test_score': array([-2.47539736e+12, -2.24452734e+12, -2.47539736e+12, -2.24452734e+12]),\n",
       " 'std_test_score': array([4.95079471e+12, 4.48905396e+12, 4.95079471e+12, 4.48905396e+12]),\n",
       " 'rank_test_score': array([3, 1, 3, 1], dtype=int32)}"
      ]
     },
     "execution_count": 17,
     "metadata": {},
     "output_type": "execute_result"
    }
   ],
   "source": [
    "clf.cv_results_"
   ]
  },
  {
   "cell_type": "code",
   "execution_count": 18,
   "id": "b7f56c7f-a552-476e-ab2c-8ec7eba5fa45",
   "metadata": {},
   "outputs": [
    {
     "name": "stdout",
     "output_type": "stream",
     "text": [
      "Best Parameters: {'copy_X': True, 'fit_intercept': False}\n",
      "Best Estimator: LinearRegression(fit_intercept=False)\n"
     ]
    }
   ],
   "source": [
    "print(\"Best Parameters:\", clf.best_params_)\n",
    "print(\"Best Estimator:\", clf.best_estimator_)"
   ]
  },
  {
   "cell_type": "code",
   "execution_count": 19,
   "id": "7c9fdf4d-5860-47e8-a2b4-0cdc35cd07f7",
   "metadata": {},
   "outputs": [
    {
     "data": {
      "image/png": "[encoded data removed]",
      "text/plain": [
       "<Figure size 640x480 with 1 Axes>"
      ]
     },
     "metadata": {},
     "output_type": "display_data"
    }
   ],
   "source": [
    "results = clf.cv_results_\n",
    "#print(results)\n",
    "\n",
    "param_values = [params for params in results['params']]\n",
    "mean_test_scores = -results['mean_test_score']\n",
    "std_test_scores = -results['std_test_score']\n",
    "\n",
    "idx_best = np.argmin(-results[\"mean_test_score\"])\n",
    "mse_min = results[\"mean_test_score\"][idx_best]\n",
    "best_combination = results['params'][idx_best]\n",
    "\n",
    "param_values = np.array(param_values)\n",
    "mean_test_scores = np.array(mean_test_scores)\n",
    "std_test_scores = np.array(std_test_scores)\n",
    "\n",
    "#Plotting\n",
    "plt.errorbar(range(len(param_values)), mean_test_scores, yerr=std_test_scores, marker='o', label='val', linestyle=' ', color='Red')\n",
    "plt.xlabel('Parameters\\' Combination Index')\n",
    "plt.ylabel('Mean Test Score')\n",
    "plt.title('Grid Search Results - Error Bars')\n",
    "\n",
    "plt.scatter(idx_best, -mse_min, marker='o', color='black',s=100)\n",
    "plt.text(idx_best, -mse_min, \"Best Combination\", color='black', ha='right', va='bottom', fontsize=10, bbox=dict(facecolor='white', alpha=0.3))\n",
    "plt.legend()\n",
    "\n",
    "plt.show()\n",
    "\n"
   ]
  },
  {
   "cell_type": "code",
   "execution_count": 20,
   "id": "e948a7d2-0264-4396-9dee-fd85134ff122",
   "metadata": {},
   "outputs": [
    {
     "name": "stdout",
     "output_type": "stream",
     "text": [
      "[-2.47539736e+12 -2.24452734e+12 -2.47539736e+12 -2.24452734e+12]\n"
     ]
    }
   ],
   "source": [
    "print(results['mean_test_score'])"
   ]
  },
  {
   "cell_type": "code",
   "execution_count": 21,
   "id": "a7f9927b-ffdf-4334-87b5-f72f27a84e2e",
   "metadata": {},
   "outputs": [
    {
     "name": "stdout",
     "output_type": "stream",
     "text": [
      "1\n"
     ]
    }
   ],
   "source": [
    "print(idx_best)"
   ]
  },
  {
   "cell_type": "code",
   "execution_count": 22,
   "id": "cd6a800f-e971-4da8-b286-14047885f918",
   "metadata": {},
   "outputs": [
    {
     "name": "stdout",
     "output_type": "stream",
     "text": [
      "-2244527342077.1147\n"
     ]
    }
   ],
   "source": [
    "print(results['mean_test_score'][idx_best])"
   ]
  },
  {
   "cell_type": "code",
   "execution_count": 28,
   "id": "b9a6d43f-ab68-4b77-baee-2e96f367e6d2",
   "metadata": {},
   "outputs": [
    {
     "data": {
      "image/png": "[encoded data removed]",
      "text/plain": [
       "<Figure size 600x300 with 2 Axes>"
      ]
     },
     "metadata": {},
     "output_type": "display_data"
    }
   ],
   "source": [
    "accuracy_map = pd.DataFrame(columns = param_grid['copy_X'], index = param_grid['fit_intercept'])\n",
    "for i, param in enumerate(results[\"params\"]):\n",
    "    accuracy_map.loc[param[\"copy_X\"], param['fit_intercept']] = -results['mean_test_score'][i]\n",
    "\n",
    "accuracy_map = accuracy_map.astype(float)\n",
    "\n",
    "plt.figure(figsize=(6, 3))\n",
    "sns.heatmap(accuracy_map, \n",
    "            annot=True, \n",
    "            cmap='Reds', \n",
    "            fmt='.2e', \n",
    "            linewidths=.5, \n",
    "            vmin = 2.24452734e+12, \n",
    "            vmax = 2.47539736e+12)\n",
    "plt.title('Neg Mean Absolute Err Heatmap - Grid Search')\n",
    "plt.xlabel('fit_intercept')\n",
    "plt.ylabel('copy_X')\n",
    "plt.show()"
   ]
  },
  {
   "cell_type": "code",
   "execution_count": 29,
   "id": "bd28896d-07a7-4853-9e43-7b195cedacb1",
   "metadata": {},
   "outputs": [
    {
     "data": {
      "text/plain": [
       "{'copy_X': True, 'fit_intercept': False}"
      ]
     },
     "execution_count": 29,
     "metadata": {},
     "output_type": "execute_result"
    }
   ],
   "source": [
    "best_combination = best_combination\n",
    "best_combination"
   ]
  },
  {
   "cell_type": "code",
   "execution_count": 33,
   "id": "435b38ef-51b0-4868-8d57-49d7b9890d67",
   "metadata": {},
   "outputs": [
    {
     "name": "stdout",
     "output_type": "stream",
     "text": [
      "CPU times: user 5.18 s, sys: 5.57 s, total: 10.7 s\n",
      "Wall time: 1.55 s\n"
     ]
    }
   ],
   "source": [
    "%%time\n",
    "\n",
    "lr_final = LinearRegression(\n",
    "    copy_X = best_combination['copy_X'],\n",
    "    fit_intercept = best_combination['fit_intercept']\n",
    ")\n",
    "\n",
    "lr_final.fit(X_train_bytes_scaled, y_train_bytes)\n",
    "\n",
    "pred_train = lr_final.predict(X_train_bytes_scaled)\n",
    "pred_val = lr_final.predict(X_val_bytes_scaled)\n",
    "predictions = lr_final.predict(X_test_bytes_scaled)"
   ]
  },
  {
   "cell_type": "code",
   "execution_count": 31,
   "id": "34eb064f-26e4-4ed2-ba88-4b76e816b350",
   "metadata": {},
   "outputs": [
    {
     "data": {
      "text/plain": [
       "(114580, 118)"
      ]
     },
     "execution_count": 31,
     "metadata": {},
     "output_type": "execute_result"
    }
   ],
   "source": [
    "X_test_bytes_scaled.shape"
   ]
  },
  {
   "cell_type": "code",
   "execution_count": 28,
   "id": "fa650794-5d97-421b-bfde-5393bae28c6c",
   "metadata": {},
   "outputs": [
    {
     "data": {
      "text/plain": [
       "(114580,)"
      ]
     },
     "execution_count": 28,
     "metadata": {},
     "output_type": "execute_result"
    }
   ],
   "source": [
    "predictions.shape"
   ]
  },
  {
   "cell_type": "code",
   "execution_count": 29,
   "id": "d7ea4139-088f-4111-b555-fa141af64d2d",
   "metadata": {},
   "outputs": [
    {
     "data": {
      "text/plain": [
       "(114580,)"
      ]
     },
     "execution_count": 29,
     "metadata": {},
     "output_type": "execute_result"
    }
   ],
   "source": [
    "y_test_bytes.shape"
   ]
  },
  {
   "cell_type": "code",
   "execution_count": 35,
   "id": "b19484b9-f4c8-477a-82f6-24603450bbcc",
   "metadata": {},
   "outputs": [
    {
     "name": "stdout",
     "output_type": "stream",
     "text": [
      "Mean Squared Error for validation set: 130665213217.16661\n",
      "Mean Absolute Error for validation set: 359689.055067414\n",
      "Mean Squared Error for validation set: 131599070588.5086\n",
      "Mean Absolute Error for validation set: 360011.760622056\n",
      "Mean Squared Error for test set: 133259202625.44981\n",
      "Mean Absolute Error for test set: 360498.0593296798\n",
      "R-squared: 0.9984590010877725\n"
     ]
    }
   ],
   "source": [
    "# Calcola il Mean Squared Error e Mean Absolute Error\n",
    "mse_train = mean_squared_error(y_train_bytes, pred_train)\n",
    "print(f\"Mean Squared Error for validation set: {mse_train}\")\n",
    "mae_train = mean_absolute_error(y_train_bytes, pred_train)\n",
    "print(f\"Mean Absolute Error for validation set: {mae_train}\")\n",
    "mse_val = mean_squared_error(y_val_bytes, pred_val)\n",
    "print(f\"Mean Squared Error for validation set: {mse_val}\")\n",
    "mae_val = mean_absolute_error(y_val_bytes, pred_val)\n",
    "print(f\"Mean Absolute Error for validation set: {mae_val}\")\n",
    "mse_test = mean_squared_error(y_test_bytes, predictions)\n",
    "print(f\"Mean Squared Error for test set: {mse_test}\")\n",
    "mae_test = mean_absolute_error(y_test_bytes, predictions)\n",
    "print(f\"Mean Absolute Error for test set: {mae_test}\")\n",
    "# Calcola il coefficiente di determinazione R-squared\n",
    "r2 = r2_score(y_test_bytes, predictions)\n",
    "print(f\"R-squared: {r2}\")"
   ]
  },
  {
   "cell_type": "markdown",
   "id": "21c67738-c62e-4dc7-8fa9-1cb1ba8b7c7d",
   "metadata": {},
   "source": [
    "<b><font size=5>s_rtt_avg<b>"
   ]
  },
  {
   "cell_type": "code",
   "execution_count": 5,
   "id": "874dc173-cf84-4f25-b3bb-352f8df3d597",
   "metadata": {},
   "outputs": [
    {
     "data": {
      "text/html": [
       "<div>\n",
       "<style scoped>\n",
       "    .dataframe tbody tr th:only-of-type {\n",
       "        vertical-align: middle;\n",
       "    }\n",
       "\n",
       "    .dataframe tbody tr th {\n",
       "        vertical-align: top;\n",
       "    }\n",
       "\n",
       "    .dataframe thead th {\n",
       "        text-align: right;\n",
       "    }\n",
       "</style>\n",
       "<table border=\"1\" class=\"dataframe\">\n",
       "  <thead>\n",
       "    <tr style=\"text-align: right;\">\n",
       "      <th></th>\n",
       "      <th>_c_ack_cnt</th>\n",
       "      <th>_c_ack_cnt_p</th>\n",
       "      <th>_c_appdataB</th>\n",
       "      <th>_c_appdataT</th>\n",
       "      <th>_c_bytes_all</th>\n",
       "      <th>_c_bytes_retx</th>\n",
       "      <th>_c_bytes_uniq</th>\n",
       "      <th>_c_cwin_ini</th>\n",
       "      <th>_c_cwin_max</th>\n",
       "      <th>_c_cwin_min</th>\n",
       "      <th>...</th>\n",
       "      <th>_s_syn_retx</th>\n",
       "      <th>_s_tm_opt</th>\n",
       "      <th>_s_ttl_max</th>\n",
       "      <th>_s_ttl_min</th>\n",
       "      <th>_s_win_0</th>\n",
       "      <th>_s_win_max</th>\n",
       "      <th>_s_win_min</th>\n",
       "      <th>_s_win_scl</th>\n",
       "      <th>_tls_session_stat</th>\n",
       "      <th>_s_rtt_avg</th>\n",
       "    </tr>\n",
       "  </thead>\n",
       "  <tbody>\n",
       "    <tr>\n",
       "      <th>0</th>\n",
       "      <td>8.0</td>\n",
       "      <td>4.0</td>\n",
       "      <td>569.0</td>\n",
       "      <td>522.003</td>\n",
       "      <td>1672.0</td>\n",
       "      <td>0.0</td>\n",
       "      <td>1672.0</td>\n",
       "      <td>517.0</td>\n",
       "      <td>590.0</td>\n",
       "      <td>51.0</td>\n",
       "      <td>...</td>\n",
       "      <td>0.0</td>\n",
       "      <td>1.0</td>\n",
       "      <td>59.0</td>\n",
       "      <td>59.0</td>\n",
       "      <td>0.0</td>\n",
       "      <td>31232.0</td>\n",
       "      <td>27680.0</td>\n",
       "      <td>9.0</td>\n",
       "      <td>1.0</td>\n",
       "      <td>52.354922</td>\n",
       "    </tr>\n",
       "    <tr>\n",
       "      <th>1</th>\n",
       "      <td>10.0</td>\n",
       "      <td>7.0</td>\n",
       "      <td>275.0</td>\n",
       "      <td>39.504</td>\n",
       "      <td>636.0</td>\n",
       "      <td>0.0</td>\n",
       "      <td>636.0</td>\n",
       "      <td>181.0</td>\n",
       "      <td>362.0</td>\n",
       "      <td>1.0</td>\n",
       "      <td>...</td>\n",
       "      <td>0.0</td>\n",
       "      <td>1.0</td>\n",
       "      <td>59.0</td>\n",
       "      <td>59.0</td>\n",
       "      <td>0.0</td>\n",
       "      <td>29480.0</td>\n",
       "      <td>27680.0</td>\n",
       "      <td>0.0</td>\n",
       "      <td>0.0</td>\n",
       "      <td>0.959986</td>\n",
       "    </tr>\n",
       "    <tr>\n",
       "      <th>2</th>\n",
       "      <td>7.0</td>\n",
       "      <td>3.0</td>\n",
       "      <td>569.0</td>\n",
       "      <td>110.003</td>\n",
       "      <td>3325.0</td>\n",
       "      <td>0.0</td>\n",
       "      <td>3325.0</td>\n",
       "      <td>517.0</td>\n",
       "      <td>1435.0</td>\n",
       "      <td>51.0</td>\n",
       "      <td>...</td>\n",
       "      <td>0.0</td>\n",
       "      <td>1.0</td>\n",
       "      <td>59.0</td>\n",
       "      <td>59.0</td>\n",
       "      <td>0.0</td>\n",
       "      <td>34304.0</td>\n",
       "      <td>27680.0</td>\n",
       "      <td>9.0</td>\n",
       "      <td>1.0</td>\n",
       "      <td>37.272424</td>\n",
       "    </tr>\n",
       "    <tr>\n",
       "      <th>3</th>\n",
       "      <td>8.0</td>\n",
       "      <td>3.0</td>\n",
       "      <td>453.0</td>\n",
       "      <td>8.813</td>\n",
       "      <td>958.0</td>\n",
       "      <td>0.0</td>\n",
       "      <td>958.0</td>\n",
       "      <td>401.0</td>\n",
       "      <td>557.0</td>\n",
       "      <td>1.0</td>\n",
       "      <td>...</td>\n",
       "      <td>0.0</td>\n",
       "      <td>0.0</td>\n",
       "      <td>59.0</td>\n",
       "      <td>59.0</td>\n",
       "      <td>0.0</td>\n",
       "      <td>30208.0</td>\n",
       "      <td>27920.0</td>\n",
       "      <td>9.0</td>\n",
       "      <td>0.0</td>\n",
       "      <td>0.309323</td>\n",
       "    </tr>\n",
       "    <tr>\n",
       "      <th>4</th>\n",
       "      <td>6.0</td>\n",
       "      <td>2.0</td>\n",
       "      <td>0.0</td>\n",
       "      <td>0.000</td>\n",
       "      <td>452.0</td>\n",
       "      <td>0.0</td>\n",
       "      <td>452.0</td>\n",
       "      <td>401.0</td>\n",
       "      <td>401.0</td>\n",
       "      <td>1.0</td>\n",
       "      <td>...</td>\n",
       "      <td>0.0</td>\n",
       "      <td>0.0</td>\n",
       "      <td>59.0</td>\n",
       "      <td>59.0</td>\n",
       "      <td>0.0</td>\n",
       "      <td>29184.0</td>\n",
       "      <td>27920.0</td>\n",
       "      <td>9.0</td>\n",
       "      <td>0.0</td>\n",
       "      <td>0.434978</td>\n",
       "    </tr>\n",
       "    <tr>\n",
       "      <th>...</th>\n",
       "      <td>...</td>\n",
       "      <td>...</td>\n",
       "      <td>...</td>\n",
       "      <td>...</td>\n",
       "      <td>...</td>\n",
       "      <td>...</td>\n",
       "      <td>...</td>\n",
       "      <td>...</td>\n",
       "      <td>...</td>\n",
       "      <td>...</td>\n",
       "      <td>...</td>\n",
       "      <td>...</td>\n",
       "      <td>...</td>\n",
       "      <td>...</td>\n",
       "      <td>...</td>\n",
       "      <td>...</td>\n",
       "      <td>...</td>\n",
       "      <td>...</td>\n",
       "      <td>...</td>\n",
       "      <td>...</td>\n",
       "      <td>...</td>\n",
       "    </tr>\n",
       "    <tr>\n",
       "      <th>147858</th>\n",
       "      <td>8.0</td>\n",
       "      <td>3.0</td>\n",
       "      <td>453.0</td>\n",
       "      <td>10.011</td>\n",
       "      <td>907.0</td>\n",
       "      <td>0.0</td>\n",
       "      <td>907.0</td>\n",
       "      <td>401.0</td>\n",
       "      <td>506.0</td>\n",
       "      <td>51.0</td>\n",
       "      <td>...</td>\n",
       "      <td>0.0</td>\n",
       "      <td>0.0</td>\n",
       "      <td>59.0</td>\n",
       "      <td>59.0</td>\n",
       "      <td>0.0</td>\n",
       "      <td>30208.0</td>\n",
       "      <td>27920.0</td>\n",
       "      <td>9.0</td>\n",
       "      <td>0.0</td>\n",
       "      <td>1.289468</td>\n",
       "    </tr>\n",
       "    <tr>\n",
       "      <th>147859</th>\n",
       "      <td>12.0</td>\n",
       "      <td>4.0</td>\n",
       "      <td>446.0</td>\n",
       "      <td>16.000</td>\n",
       "      <td>2068.0</td>\n",
       "      <td>0.0</td>\n",
       "      <td>2068.0</td>\n",
       "      <td>394.0</td>\n",
       "      <td>838.0</td>\n",
       "      <td>51.0</td>\n",
       "      <td>...</td>\n",
       "      <td>0.0</td>\n",
       "      <td>0.0</td>\n",
       "      <td>59.0</td>\n",
       "      <td>59.0</td>\n",
       "      <td>0.0</td>\n",
       "      <td>33792.0</td>\n",
       "      <td>27920.0</td>\n",
       "      <td>9.0</td>\n",
       "      <td>0.0</td>\n",
       "      <td>3.517330</td>\n",
       "    </tr>\n",
       "    <tr>\n",
       "      <th>147860</th>\n",
       "      <td>12.0</td>\n",
       "      <td>6.0</td>\n",
       "      <td>306.0</td>\n",
       "      <td>53.987</td>\n",
       "      <td>430.0</td>\n",
       "      <td>0.0</td>\n",
       "      <td>430.0</td>\n",
       "      <td>212.0</td>\n",
       "      <td>212.0</td>\n",
       "      <td>38.0</td>\n",
       "      <td>...</td>\n",
       "      <td>0.0</td>\n",
       "      <td>0.0</td>\n",
       "      <td>59.0</td>\n",
       "      <td>59.0</td>\n",
       "      <td>0.0</td>\n",
       "      <td>29184.0</td>\n",
       "      <td>27920.0</td>\n",
       "      <td>9.0</td>\n",
       "      <td>0.0</td>\n",
       "      <td>2.495964</td>\n",
       "    </tr>\n",
       "    <tr>\n",
       "      <th>147861</th>\n",
       "      <td>13.0</td>\n",
       "      <td>6.0</td>\n",
       "      <td>306.0</td>\n",
       "      <td>54.000</td>\n",
       "      <td>886.0</td>\n",
       "      <td>0.0</td>\n",
       "      <td>886.0</td>\n",
       "      <td>212.0</td>\n",
       "      <td>543.0</td>\n",
       "      <td>38.0</td>\n",
       "      <td>...</td>\n",
       "      <td>0.0</td>\n",
       "      <td>0.0</td>\n",
       "      <td>59.0</td>\n",
       "      <td>59.0</td>\n",
       "      <td>0.0</td>\n",
       "      <td>30208.0</td>\n",
       "      <td>27920.0</td>\n",
       "      <td>9.0</td>\n",
       "      <td>0.0</td>\n",
       "      <td>2.051685</td>\n",
       "    </tr>\n",
       "    <tr>\n",
       "      <th>147862</th>\n",
       "      <td>17.0</td>\n",
       "      <td>11.0</td>\n",
       "      <td>272.0</td>\n",
       "      <td>136.003</td>\n",
       "      <td>956.0</td>\n",
       "      <td>0.0</td>\n",
       "      <td>956.0</td>\n",
       "      <td>178.0</td>\n",
       "      <td>647.0</td>\n",
       "      <td>38.0</td>\n",
       "      <td>...</td>\n",
       "      <td>0.0</td>\n",
       "      <td>0.0</td>\n",
       "      <td>59.0</td>\n",
       "      <td>59.0</td>\n",
       "      <td>0.0</td>\n",
       "      <td>30720.0</td>\n",
       "      <td>27920.0</td>\n",
       "      <td>9.0</td>\n",
       "      <td>0.0</td>\n",
       "      <td>9.845847</td>\n",
       "    </tr>\n",
       "  </tbody>\n",
       "</table>\n",
       "<p>147832 rows × 111 columns</p>\n",
       "</div>"
      ],
      "text/plain": [
       "        _c_ack_cnt  _c_ack_cnt_p  _c_appdataB  _c_appdataT  _c_bytes_all  \\\n",
       "0              8.0           4.0        569.0      522.003        1672.0   \n",
       "1             10.0           7.0        275.0       39.504         636.0   \n",
       "2              7.0           3.0        569.0      110.003        3325.0   \n",
       "3              8.0           3.0        453.0        8.813         958.0   \n",
       "4              6.0           2.0          0.0        0.000         452.0   \n",
       "...            ...           ...          ...          ...           ...   \n",
       "147858         8.0           3.0        453.0       10.011         907.0   \n",
       "147859        12.0           4.0        446.0       16.000        2068.0   \n",
       "147860        12.0           6.0        306.0       53.987         430.0   \n",
       "147861        13.0           6.0        306.0       54.000         886.0   \n",
       "147862        17.0          11.0        272.0      136.003         956.0   \n",
       "\n",
       "        _c_bytes_retx  _c_bytes_uniq  _c_cwin_ini  _c_cwin_max  _c_cwin_min  \\\n",
       "0                 0.0         1672.0        517.0        590.0         51.0   \n",
       "1                 0.0          636.0        181.0        362.0          1.0   \n",
       "2                 0.0         3325.0        517.0       1435.0         51.0   \n",
       "3                 0.0          958.0        401.0        557.0          1.0   \n",
       "4                 0.0          452.0        401.0        401.0          1.0   \n",
       "...               ...            ...          ...          ...          ...   \n",
       "147858            0.0          907.0        401.0        506.0         51.0   \n",
       "147859            0.0         2068.0        394.0        838.0         51.0   \n",
       "147860            0.0          430.0        212.0        212.0         38.0   \n",
       "147861            0.0          886.0        212.0        543.0         38.0   \n",
       "147862            0.0          956.0        178.0        647.0         38.0   \n",
       "\n",
       "        ...  _s_syn_retx  _s_tm_opt  _s_ttl_max  _s_ttl_min  _s_win_0  \\\n",
       "0       ...          0.0        1.0        59.0        59.0       0.0   \n",
       "1       ...          0.0        1.0        59.0        59.0       0.0   \n",
       "2       ...          0.0        1.0        59.0        59.0       0.0   \n",
       "3       ...          0.0        0.0        59.0        59.0       0.0   \n",
       "4       ...          0.0        0.0        59.0        59.0       0.0   \n",
       "...     ...          ...        ...         ...         ...       ...   \n",
       "147858  ...          0.0        0.0        59.0        59.0       0.0   \n",
       "147859  ...          0.0        0.0        59.0        59.0       0.0   \n",
       "147860  ...          0.0        0.0        59.0        59.0       0.0   \n",
       "147861  ...          0.0        0.0        59.0        59.0       0.0   \n",
       "147862  ...          0.0        0.0        59.0        59.0       0.0   \n",
       "\n",
       "        _s_win_max  _s_win_min  _s_win_scl  _tls_session_stat  _s_rtt_avg  \n",
       "0          31232.0     27680.0         9.0                1.0   52.354922  \n",
       "1          29480.0     27680.0         0.0                0.0    0.959986  \n",
       "2          34304.0     27680.0         9.0                1.0   37.272424  \n",
       "3          30208.0     27920.0         9.0                0.0    0.309323  \n",
       "4          29184.0     27920.0         9.0                0.0    0.434978  \n",
       "...            ...         ...         ...                ...         ...  \n",
       "147858     30208.0     27920.0         9.0                0.0    1.289468  \n",
       "147859     33792.0     27920.0         9.0                0.0    3.517330  \n",
       "147860     29184.0     27920.0         9.0                0.0    2.495964  \n",
       "147861     30208.0     27920.0         9.0                0.0    2.051685  \n",
       "147862     30720.0     27920.0         9.0                0.0    9.845847  \n",
       "\n",
       "[147832 rows x 111 columns]"
      ]
     },
     "execution_count": 5,
     "metadata": {},
     "output_type": "execute_result"
    }
   ],
   "source": [
    "columns_to_remove_train = dfTrain.filter(like='rtt', axis=1).columns\n",
    "\n",
    "dfTrainRtt = dfTrain.copy()\n",
    "# Rimuovi le colonne identificate\n",
    "dfTrainRtt = dfTrainRtt.drop(columns=columns_to_remove_train)\n",
    "\n",
    "X_train_rtt_2 = dfTrainRtt.iloc[:, : -3] \n",
    "X_train_rtt_2['_s_rtt_avg'] = dfTrain['_s_rtt_avg']\n",
    "\n",
    "mask_train = X_train_rtt_2.loc[:, \"_s_rtt_avg\"]!=0\n",
    "X_train_rtt_2 = X_train_rtt_2[mask_train]\n",
    "\n",
    "X_train_rtt_2"
   ]
  },
  {
   "cell_type": "code",
   "execution_count": 6,
   "id": "475371e9-d06f-4a61-9726-34a071a8881d",
   "metadata": {},
   "outputs": [
    {
     "data": {
      "text/html": [
       "<div>\n",
       "<style scoped>\n",
       "    .dataframe tbody tr th:only-of-type {\n",
       "        vertical-align: middle;\n",
       "    }\n",
       "\n",
       "    .dataframe tbody tr th {\n",
       "        vertical-align: top;\n",
       "    }\n",
       "\n",
       "    .dataframe thead th {\n",
       "        text-align: right;\n",
       "    }\n",
       "</style>\n",
       "<table border=\"1\" class=\"dataframe\">\n",
       "  <thead>\n",
       "    <tr style=\"text-align: right;\">\n",
       "      <th></th>\n",
       "      <th>_c_ack_cnt</th>\n",
       "      <th>_c_ack_cnt_p</th>\n",
       "      <th>_c_appdataB</th>\n",
       "      <th>_c_appdataT</th>\n",
       "      <th>_c_bytes_all</th>\n",
       "      <th>_c_bytes_retx</th>\n",
       "      <th>_c_bytes_uniq</th>\n",
       "      <th>_c_cwin_ini</th>\n",
       "      <th>_c_cwin_max</th>\n",
       "      <th>_c_cwin_min</th>\n",
       "      <th>...</th>\n",
       "      <th>_s_syn_retx</th>\n",
       "      <th>_s_tm_opt</th>\n",
       "      <th>_s_ttl_max</th>\n",
       "      <th>_s_ttl_min</th>\n",
       "      <th>_s_win_0</th>\n",
       "      <th>_s_win_max</th>\n",
       "      <th>_s_win_min</th>\n",
       "      <th>_s_win_scl</th>\n",
       "      <th>_tls_session_stat</th>\n",
       "      <th>_s_rtt_avg</th>\n",
       "    </tr>\n",
       "  </thead>\n",
       "  <tbody>\n",
       "    <tr>\n",
       "      <th>0</th>\n",
       "      <td>24.0</td>\n",
       "      <td>5.0</td>\n",
       "      <td>309.0</td>\n",
       "      <td>11.673</td>\n",
       "      <td>725.0</td>\n",
       "      <td>13.0</td>\n",
       "      <td>712.0</td>\n",
       "      <td>215.0</td>\n",
       "      <td>459.0</td>\n",
       "      <td>1.0</td>\n",
       "      <td>...</td>\n",
       "      <td>0.0</td>\n",
       "      <td>0.0</td>\n",
       "      <td>59.0</td>\n",
       "      <td>59.0</td>\n",
       "      <td>0.0</td>\n",
       "      <td>30208.0</td>\n",
       "      <td>27920.0</td>\n",
       "      <td>9.0</td>\n",
       "      <td>0.0</td>\n",
       "      <td>14.347855</td>\n",
       "    </tr>\n",
       "    <tr>\n",
       "      <th>1</th>\n",
       "      <td>10.0</td>\n",
       "      <td>6.0</td>\n",
       "      <td>409.0</td>\n",
       "      <td>47.964</td>\n",
       "      <td>671.0</td>\n",
       "      <td>0.0</td>\n",
       "      <td>671.0</td>\n",
       "      <td>282.0</td>\n",
       "      <td>282.0</td>\n",
       "      <td>126.0</td>\n",
       "      <td>...</td>\n",
       "      <td>0.0</td>\n",
       "      <td>1.0</td>\n",
       "      <td>59.0</td>\n",
       "      <td>59.0</td>\n",
       "      <td>0.0</td>\n",
       "      <td>30208.0</td>\n",
       "      <td>27680.0</td>\n",
       "      <td>9.0</td>\n",
       "      <td>0.0</td>\n",
       "      <td>2.426822</td>\n",
       "    </tr>\n",
       "    <tr>\n",
       "      <th>2</th>\n",
       "      <td>10.0</td>\n",
       "      <td>6.0</td>\n",
       "      <td>410.0</td>\n",
       "      <td>36.464</td>\n",
       "      <td>729.0</td>\n",
       "      <td>0.0</td>\n",
       "      <td>729.0</td>\n",
       "      <td>283.0</td>\n",
       "      <td>320.0</td>\n",
       "      <td>1.0</td>\n",
       "      <td>...</td>\n",
       "      <td>0.0</td>\n",
       "      <td>1.0</td>\n",
       "      <td>59.0</td>\n",
       "      <td>59.0</td>\n",
       "      <td>0.0</td>\n",
       "      <td>30208.0</td>\n",
       "      <td>27680.0</td>\n",
       "      <td>9.0</td>\n",
       "      <td>0.0</td>\n",
       "      <td>9.733290</td>\n",
       "    </tr>\n",
       "    <tr>\n",
       "      <th>3</th>\n",
       "      <td>12.0</td>\n",
       "      <td>7.0</td>\n",
       "      <td>341.0</td>\n",
       "      <td>14.198</td>\n",
       "      <td>540.0</td>\n",
       "      <td>0.0</td>\n",
       "      <td>540.0</td>\n",
       "      <td>247.0</td>\n",
       "      <td>262.0</td>\n",
       "      <td>31.0</td>\n",
       "      <td>...</td>\n",
       "      <td>0.0</td>\n",
       "      <td>1.0</td>\n",
       "      <td>59.0</td>\n",
       "      <td>59.0</td>\n",
       "      <td>0.0</td>\n",
       "      <td>30208.0</td>\n",
       "      <td>27680.0</td>\n",
       "      <td>9.0</td>\n",
       "      <td>1.0</td>\n",
       "      <td>14.257525</td>\n",
       "    </tr>\n",
       "    <tr>\n",
       "      <th>4</th>\n",
       "      <td>25.0</td>\n",
       "      <td>6.0</td>\n",
       "      <td>309.0</td>\n",
       "      <td>20.617</td>\n",
       "      <td>725.0</td>\n",
       "      <td>13.0</td>\n",
       "      <td>712.0</td>\n",
       "      <td>215.0</td>\n",
       "      <td>459.0</td>\n",
       "      <td>38.0</td>\n",
       "      <td>...</td>\n",
       "      <td>0.0</td>\n",
       "      <td>0.0</td>\n",
       "      <td>59.0</td>\n",
       "      <td>59.0</td>\n",
       "      <td>0.0</td>\n",
       "      <td>30208.0</td>\n",
       "      <td>27920.0</td>\n",
       "      <td>9.0</td>\n",
       "      <td>0.0</td>\n",
       "      <td>1.426980</td>\n",
       "    </tr>\n",
       "    <tr>\n",
       "      <th>...</th>\n",
       "      <td>...</td>\n",
       "      <td>...</td>\n",
       "      <td>...</td>\n",
       "      <td>...</td>\n",
       "      <td>...</td>\n",
       "      <td>...</td>\n",
       "      <td>...</td>\n",
       "      <td>...</td>\n",
       "      <td>...</td>\n",
       "      <td>...</td>\n",
       "      <td>...</td>\n",
       "      <td>...</td>\n",
       "      <td>...</td>\n",
       "      <td>...</td>\n",
       "      <td>...</td>\n",
       "      <td>...</td>\n",
       "      <td>...</td>\n",
       "      <td>...</td>\n",
       "      <td>...</td>\n",
       "      <td>...</td>\n",
       "      <td>...</td>\n",
       "    </tr>\n",
       "    <tr>\n",
       "      <th>114575</th>\n",
       "      <td>27.0</td>\n",
       "      <td>7.0</td>\n",
       "      <td>611.0</td>\n",
       "      <td>16.013</td>\n",
       "      <td>2965.0</td>\n",
       "      <td>13.0</td>\n",
       "      <td>2952.0</td>\n",
       "      <td>517.0</td>\n",
       "      <td>2397.0</td>\n",
       "      <td>38.0</td>\n",
       "      <td>...</td>\n",
       "      <td>0.0</td>\n",
       "      <td>0.0</td>\n",
       "      <td>59.0</td>\n",
       "      <td>59.0</td>\n",
       "      <td>0.0</td>\n",
       "      <td>34816.0</td>\n",
       "      <td>27920.0</td>\n",
       "      <td>9.0</td>\n",
       "      <td>1.0</td>\n",
       "      <td>7.010757</td>\n",
       "    </tr>\n",
       "    <tr>\n",
       "      <th>114576</th>\n",
       "      <td>13.0</td>\n",
       "      <td>2.0</td>\n",
       "      <td>569.0</td>\n",
       "      <td>10.008</td>\n",
       "      <td>1425.0</td>\n",
       "      <td>6.0</td>\n",
       "      <td>1419.0</td>\n",
       "      <td>517.0</td>\n",
       "      <td>902.0</td>\n",
       "      <td>51.0</td>\n",
       "      <td>...</td>\n",
       "      <td>0.0</td>\n",
       "      <td>0.0</td>\n",
       "      <td>59.0</td>\n",
       "      <td>59.0</td>\n",
       "      <td>0.0</td>\n",
       "      <td>30720.0</td>\n",
       "      <td>27920.0</td>\n",
       "      <td>9.0</td>\n",
       "      <td>1.0</td>\n",
       "      <td>51.129722</td>\n",
       "    </tr>\n",
       "    <tr>\n",
       "      <th>114577</th>\n",
       "      <td>7.0</td>\n",
       "      <td>3.0</td>\n",
       "      <td>611.0</td>\n",
       "      <td>24.000</td>\n",
       "      <td>997.0</td>\n",
       "      <td>0.0</td>\n",
       "      <td>997.0</td>\n",
       "      <td>517.0</td>\n",
       "      <td>517.0</td>\n",
       "      <td>93.0</td>\n",
       "      <td>...</td>\n",
       "      <td>0.0</td>\n",
       "      <td>1.0</td>\n",
       "      <td>59.0</td>\n",
       "      <td>59.0</td>\n",
       "      <td>0.0</td>\n",
       "      <td>30208.0</td>\n",
       "      <td>27680.0</td>\n",
       "      <td>9.0</td>\n",
       "      <td>1.0</td>\n",
       "      <td>3.142937</td>\n",
       "    </tr>\n",
       "    <tr>\n",
       "      <th>114578</th>\n",
       "      <td>7.0</td>\n",
       "      <td>3.0</td>\n",
       "      <td>0.0</td>\n",
       "      <td>0.000</td>\n",
       "      <td>610.0</td>\n",
       "      <td>0.0</td>\n",
       "      <td>610.0</td>\n",
       "      <td>517.0</td>\n",
       "      <td>517.0</td>\n",
       "      <td>93.0</td>\n",
       "      <td>...</td>\n",
       "      <td>0.0</td>\n",
       "      <td>0.0</td>\n",
       "      <td>59.0</td>\n",
       "      <td>59.0</td>\n",
       "      <td>0.0</td>\n",
       "      <td>29184.0</td>\n",
       "      <td>27920.0</td>\n",
       "      <td>9.0</td>\n",
       "      <td>1.0</td>\n",
       "      <td>68.538049</td>\n",
       "    </tr>\n",
       "    <tr>\n",
       "      <th>114579</th>\n",
       "      <td>10.0</td>\n",
       "      <td>5.0</td>\n",
       "      <td>341.0</td>\n",
       "      <td>16.006</td>\n",
       "      <td>540.0</td>\n",
       "      <td>0.0</td>\n",
       "      <td>540.0</td>\n",
       "      <td>247.0</td>\n",
       "      <td>247.0</td>\n",
       "      <td>31.0</td>\n",
       "      <td>...</td>\n",
       "      <td>0.0</td>\n",
       "      <td>1.0</td>\n",
       "      <td>59.0</td>\n",
       "      <td>59.0</td>\n",
       "      <td>0.0</td>\n",
       "      <td>30208.0</td>\n",
       "      <td>27680.0</td>\n",
       "      <td>9.0</td>\n",
       "      <td>1.0</td>\n",
       "      <td>11.920702</td>\n",
       "    </tr>\n",
       "  </tbody>\n",
       "</table>\n",
       "<p>114555 rows × 111 columns</p>\n",
       "</div>"
      ],
      "text/plain": [
       "        _c_ack_cnt  _c_ack_cnt_p  _c_appdataB  _c_appdataT  _c_bytes_all  \\\n",
       "0             24.0           5.0        309.0       11.673         725.0   \n",
       "1             10.0           6.0        409.0       47.964         671.0   \n",
       "2             10.0           6.0        410.0       36.464         729.0   \n",
       "3             12.0           7.0        341.0       14.198         540.0   \n",
       "4             25.0           6.0        309.0       20.617         725.0   \n",
       "...            ...           ...          ...          ...           ...   \n",
       "114575        27.0           7.0        611.0       16.013        2965.0   \n",
       "114576        13.0           2.0        569.0       10.008        1425.0   \n",
       "114577         7.0           3.0        611.0       24.000         997.0   \n",
       "114578         7.0           3.0          0.0        0.000         610.0   \n",
       "114579        10.0           5.0        341.0       16.006         540.0   \n",
       "\n",
       "        _c_bytes_retx  _c_bytes_uniq  _c_cwin_ini  _c_cwin_max  _c_cwin_min  \\\n",
       "0                13.0          712.0        215.0        459.0          1.0   \n",
       "1                 0.0          671.0        282.0        282.0        126.0   \n",
       "2                 0.0          729.0        283.0        320.0          1.0   \n",
       "3                 0.0          540.0        247.0        262.0         31.0   \n",
       "4                13.0          712.0        215.0        459.0         38.0   \n",
       "...               ...            ...          ...          ...          ...   \n",
       "114575           13.0         2952.0        517.0       2397.0         38.0   \n",
       "114576            6.0         1419.0        517.0        902.0         51.0   \n",
       "114577            0.0          997.0        517.0        517.0         93.0   \n",
       "114578            0.0          610.0        517.0        517.0         93.0   \n",
       "114579            0.0          540.0        247.0        247.0         31.0   \n",
       "\n",
       "        ...  _s_syn_retx  _s_tm_opt  _s_ttl_max  _s_ttl_min  _s_win_0  \\\n",
       "0       ...          0.0        0.0        59.0        59.0       0.0   \n",
       "1       ...          0.0        1.0        59.0        59.0       0.0   \n",
       "2       ...          0.0        1.0        59.0        59.0       0.0   \n",
       "3       ...          0.0        1.0        59.0        59.0       0.0   \n",
       "4       ...          0.0        0.0        59.0        59.0       0.0   \n",
       "...     ...          ...        ...         ...         ...       ...   \n",
       "114575  ...          0.0        0.0        59.0        59.0       0.0   \n",
       "114576  ...          0.0        0.0        59.0        59.0       0.0   \n",
       "114577  ...          0.0        1.0        59.0        59.0       0.0   \n",
       "114578  ...          0.0        0.0        59.0        59.0       0.0   \n",
       "114579  ...          0.0        1.0        59.0        59.0       0.0   \n",
       "\n",
       "        _s_win_max  _s_win_min  _s_win_scl  _tls_session_stat  _s_rtt_avg  \n",
       "0          30208.0     27920.0         9.0                0.0   14.347855  \n",
       "1          30208.0     27680.0         9.0                0.0    2.426822  \n",
       "2          30208.0     27680.0         9.0                0.0    9.733290  \n",
       "3          30208.0     27680.0         9.0                1.0   14.257525  \n",
       "4          30208.0     27920.0         9.0                0.0    1.426980  \n",
       "...            ...         ...         ...                ...         ...  \n",
       "114575     34816.0     27920.0         9.0                1.0    7.010757  \n",
       "114576     30720.0     27920.0         9.0                1.0   51.129722  \n",
       "114577     30208.0     27680.0         9.0                1.0    3.142937  \n",
       "114578     29184.0     27920.0         9.0                1.0   68.538049  \n",
       "114579     30208.0     27680.0         9.0                1.0   11.920702  \n",
       "\n",
       "[114555 rows x 111 columns]"
      ]
     },
     "execution_count": 6,
     "metadata": {},
     "output_type": "execute_result"
    }
   ],
   "source": [
    "columns_to_remove_test = dfTest.filter(like='rtt', axis=1).columns\n",
    "\n",
    "dfTestRtt = dfTest.copy()\n",
    "\n",
    "dfTestRtt = dfTestRtt.drop(columns=columns_to_remove_test)\n",
    "\n",
    "X_test_rtt_2 = dfTestRtt.iloc[:, : -3] \n",
    "X_test_rtt_2['_s_rtt_avg'] = dfTest['_s_rtt_avg']\n",
    "\n",
    "mask_test = X_test_rtt_2.loc[:, \"_s_rtt_avg\"]!=0\n",
    "X_test_rtt_2 = X_test_rtt_2[mask_test]\n",
    "\n",
    "X_test_rtt_2"
   ]
  },
  {
   "cell_type": "code",
   "execution_count": 7,
   "id": "b76f656e-84df-4e31-bdb1-a3f880aba9a4",
   "metadata": {},
   "outputs": [],
   "source": [
    "X_train_rtt = X_train_rtt_2.drop(columns= \"_s_rtt_avg\").to_numpy()\n",
    "y_train_rtt = X_train_rtt_2['_s_rtt_avg'].to_numpy()\n",
    "\n",
    "X_test_rtt = X_test_rtt_2.drop(columns= \"_s_rtt_avg\").to_numpy()\n",
    "y_test_rtt = X_test_rtt_2['_s_rtt_avg'].to_numpy()"
   ]
  },
  {
   "cell_type": "code",
   "execution_count": 8,
   "id": "9248d1a1-a879-4dcf-ae46-d14b1a81e23f",
   "metadata": {},
   "outputs": [],
   "source": [
    "X_train_rtt, X_val_rtt, y_train_rtt, y_val_rtt = train_test_split( # X -> features, y -> labels\n",
    "    X_train_rtt, # X\n",
    "    y_train_rtt, # y\n",
    "    #stratify = df_training['numerical_label'], # no need of stratification\n",
    "    train_size = 0.7, # percentage of training set\n",
    "    random_state = 15 \n",
    ")"
   ]
  },
  {
   "cell_type": "code",
   "execution_count": 10,
   "id": "22d64cec-c381-4062-9709-e269fc652bd3",
   "metadata": {},
   "outputs": [],
   "source": [
    "scaler = StandardScaler()\n",
    "scaler.fit(X_train_rtt)\n",
    "\n",
    "X_train_rtt_scaled = pd.DataFrame(scaler.transform(X_train_rtt))\n",
    "X_val_rtt_scaled = pd.DataFrame(scaler.transform(X_val_rtt))\n",
    "X_test_rtt_scaled = pd.DataFrame(scaler.transform(X_test_rtt))\n",
    "\n",
    "#correlation_matrix = X_s.corr().abs()"
   ]
  },
  {
   "cell_type": "code",
   "execution_count": 21,
   "id": "e18a8264-15a0-45e4-9dd1-c5ada63b89d3",
   "metadata": {},
   "outputs": [
    {
     "name": "stdout",
     "output_type": "stream",
     "text": [
      "CPU times: user 4.62 s, sys: 5.55 s, total: 10.2 s\n",
      "Wall time: 1.44 s\n"
     ]
    }
   ],
   "source": [
    "%%time\n",
    "\n",
    "lr = LinearRegression()\n",
    "lr.fit(X_train_rtt_scaled, y_train_rtt)\n",
    "\n",
    "predictions_train = lr.predict(X_train_rtt_scaled)\n",
    "predictions_val = lr.predict(X_val_rtt_scaled)\n",
    "predictions_test = lr.predict(X_test_rtt_scaled)"
   ]
  },
  {
   "cell_type": "code",
   "execution_count": 22,
   "id": "3a96d126-8195-453f-970f-2f1599fb999f",
   "metadata": {},
   "outputs": [
    {
     "name": "stdout",
     "output_type": "stream",
     "text": [
      "LINEAR REGRESSION EVALUATION:\n",
      "\tTRAIN SET\n",
      "\t\tMEAN ABSOLUTE ERROR = 0.90 s\n",
      "\tVAL SET\n",
      "\t\tMEAN ABSOLUTE ERROR = 0.88 s\n",
      "\tTEST SET\n",
      "\t\tMEAN ABSOLUTE ERROR = 1.06 s\n"
     ]
    }
   ],
   "source": [
    "### --- mean_squared_error --- ###\n",
    "MSE_lr_train = mean_squared_error(predictions_train, y_train_rtt)\n",
    "MSE_lr_val = mean_squared_error(predictions_val, y_val_rtt)\n",
    "MSE_lr_test = mean_squared_error(predictions_test, y_test_rtt)\n",
    "\n",
    "### --- mean_absolute_error --- ###\n",
    "MAE_lr_train = mean_absolute_error(predictions_train, y_train_rtt)\n",
    "MAE_lr_val = mean_absolute_error(predictions_val, y_val_rtt)\n",
    "MAE_lr_test = mean_absolute_error(predictions_test, y_test_rtt)\n",
    "\n",
    "\n",
    "### --- print the results --- ###\n",
    "print(\"LINEAR REGRESSION EVALUATION:\")\n",
    "print(\"\\tTRAIN SET\")\n",
    "#print(\"\\t\\tMEAN SQUARED ERROR = %.2f s\" %(MSE_lr_train/1000))\n",
    "print(\"\\t\\tMEAN ABSOLUTE ERROR = %.2f s\" %(MAE_lr_train/1000))\n",
    "print(\"\\tVAL SET\")\n",
    "#print(\"\\t\\tMEAN SQUARED ERROR = %.2f s\" %(MSE_lr_val/1000))\n",
    "print(\"\\t\\tMEAN ABSOLUTE ERROR = %.2f s\" %(MAE_lr_val/1000))\n",
    "print(\"\\tTEST SET\")\n",
    "#print(\"\\t\\tMEAN SQUARED ERROR = %.2f s\" %(MSE_lr_test/1000))\n",
    "print(\"\\t\\tMEAN ABSOLUTE ERROR = %.2f s\" %(MAE_lr_test/1000))"
   ]
  },
  {
   "cell_type": "code",
   "execution_count": 13,
   "id": "c430b1a0-2be6-4d7d-9844-9786555bceac",
   "metadata": {},
   "outputs": [
    {
     "name": "stdout",
     "output_type": "stream",
     "text": [
      "CPU times: user 1min 9s, sys: 1min 39s, total: 2min 49s\n",
      "Wall time: 24.4 s\n"
     ]
    },
    {
     "data": {
      "text/plain": [
       "GridSearchCV(cv=5, estimator=LinearRegression(),\n",
       "             param_grid={'copy_X': [True, False],\n",
       "                         'fit_intercept': [True, False]},\n",
       "             scoring='neg_mean_absolute_error')"
      ]
     },
     "execution_count": 13,
     "metadata": {},
     "output_type": "execute_result"
    }
   ],
   "source": [
    "%%time\n",
    "\n",
    "lr = LinearRegression()\n",
    "param_grid = {'fit_intercept': [True, False], 'copy_X': [True, False]}\n",
    "\n",
    "clf = GridSearchCV(lr, param_grid, scoring='neg_mean_absolute_error', cv=5)\n",
    "clf.fit(X_train_rtt_scaled, y_train_rtt)"
   ]
  },
  {
   "cell_type": "code",
   "execution_count": 14,
   "id": "b7f4361e-99fa-47bc-a23f-076b7d23065b",
   "metadata": {},
   "outputs": [
    {
     "name": "stdout",
     "output_type": "stream",
     "text": [
      "Best Parameters: {'copy_X': True, 'fit_intercept': False}\n",
      "Best Estimator: LinearRegression(fit_intercept=False)\n"
     ]
    }
   ],
   "source": [
    "print(\"Best Parameters:\", clf.best_params_)\n",
    "print(\"Best Estimator:\", clf.best_estimator_)"
   ]
  },
  {
   "cell_type": "code",
   "execution_count": 15,
   "id": "1f37740e-245a-4844-804c-ada5710685be",
   "metadata": {},
   "outputs": [
    {
     "data": {
      "image/png": "[encoded data removed]",
      "text/plain": [
       "<Figure size 640x480 with 1 Axes>"
      ]
     },
     "metadata": {},
     "output_type": "display_data"
    }
   ],
   "source": [
    "results = clf.cv_results_\n",
    "\n",
    "param_values = [params for params in results['params']]\n",
    "mean_test_scores = -results['mean_test_score']\n",
    "std_test_scores = -results['std_test_score']\n",
    "\n",
    "idx_best = np.argmin(-results[\"mean_test_score\"])\n",
    "mse_min = results[\"mean_test_score\"][idx_best]\n",
    "best_combination = results['params'][idx_best]\n",
    "\n",
    "param_values = np.array(param_values)\n",
    "mean_test_scores = np.array(mean_test_scores)\n",
    "std_test_scores = np.array(std_test_scores)\n",
    "\n",
    "#Plotting\n",
    "plt.errorbar(range(len(param_values)), mean_test_scores, yerr=std_test_scores, marker='o', label='val', linestyle=' ', color='Red')\n",
    "plt.xlabel('Parameters\\' Combination Index')\n",
    "plt.ylabel('Mean Test Score')\n",
    "plt.title('Grid Search Results - Error Bars')\n",
    "\n",
    "plt.scatter(idx_best, -mse_min, marker='o', color='black',s=100)\n",
    "plt.text(idx_best, -mse_min, \"Best Combination\", color='black', ha='right', va='bottom', fontsize=10, bbox=dict(facecolor='white', alpha=0.3))\n",
    "plt.legend()\n",
    "\n",
    "plt.show()"
   ]
  },
  {
   "cell_type": "code",
   "execution_count": 16,
   "id": "e1d8052b-d412-4b9a-842c-08162f1fc486",
   "metadata": {},
   "outputs": [
    {
     "name": "stdout",
     "output_type": "stream",
     "text": [
      "[-2.76879836e+10 -1.36280494e+03 -2.76879836e+10 -1.36280494e+03]\n"
     ]
    }
   ],
   "source": [
    "print(results['mean_test_score'])"
   ]
  },
  {
   "cell_type": "code",
   "execution_count": 18,
   "id": "05107756-8d39-436d-bedc-c8711d269215",
   "metadata": {},
   "outputs": [
    {
     "data": {
      "image/png": "[encoded data removed]",
      "text/plain": [
       "<Figure size 600x300 with 2 Axes>"
      ]
     },
     "metadata": {},
     "output_type": "display_data"
    }
   ],
   "source": [
    "accuracy_map = pd.DataFrame(columns = param_grid['copy_X'], index = param_grid['fit_intercept'])\n",
    "for i, param in enumerate(results[\"params\"]):\n",
    "    accuracy_map.loc[param[\"copy_X\"], param['fit_intercept']] = -results['mean_test_score'][i]\n",
    "\n",
    "accuracy_map = accuracy_map.astype(float)\n",
    "\n",
    "plt.figure(figsize=(6, 3))\n",
    "sns.heatmap(accuracy_map, \n",
    "            annot=True, \n",
    "            cmap='Reds', \n",
    "            fmt='.2e', \n",
    "            linewidths=.5, \n",
    "            vmin = 1.36280494e+03, \n",
    "            vmax = 2.76879836e+10)\n",
    "plt.title('Neg Mean Absolute Err Heatmap - Grid Search')\n",
    "plt.xlabel('fit_intercept')\n",
    "plt.ylabel('copy_X')\n",
    "plt.show()"
   ]
  },
  {
   "cell_type": "code",
   "execution_count": 23,
   "id": "d2c9b0ca-fd76-4a12-970c-33ceb2569b39",
   "metadata": {},
   "outputs": [
    {
     "name": "stdout",
     "output_type": "stream",
     "text": [
      "CPU times: user 4.62 s, sys: 5.95 s, total: 10.6 s\n",
      "Wall time: 1.47 s\n"
     ]
    }
   ],
   "source": [
    "%%time\n",
    "\n",
    "lr_final = LinearRegression(\n",
    "    copy_X = best_combination['copy_X'],\n",
    "    fit_intercept = best_combination['fit_intercept']\n",
    ")\n",
    "\n",
    "lr_final.fit(X_train_rtt_scaled, y_train_rtt)\n",
    "\n",
    "predictions_train = lr_final.predict(X_train_rtt_scaled)\n",
    "predictions_val = lr_final.predict(X_val_rtt_scaled)\n",
    "predictions = lr_final.predict(X_test_rtt_scaled)"
   ]
  },
  {
   "cell_type": "code",
   "execution_count": 24,
   "id": "3d22f966-f416-4bb5-a321-bce608dc00d1",
   "metadata": {},
   "outputs": [
    {
     "name": "stdout",
     "output_type": "stream",
     "text": [
      "LINEAR REGRESSION EVALUATION:\n",
      "\tTRAIN SET\n",
      "\t\tMEAN ABSOLUTE ERROR = 0.94 s\n",
      "\tVAL SET\n",
      "\t\tMEAN ABSOLUTE ERROR = 0.92 s\n",
      "\tTEST SET\n",
      "\t\tMEAN ABSOLUTE ERROR = 1.06 s\n"
     ]
    }
   ],
   "source": [
    "### --- mean_squared_error --- ###\n",
    "MSE_lr_train = mean_squared_error(predictions_train, y_train_rtt)\n",
    "MSE_lr_val = mean_squared_error(predictions_val, y_val_rtt)\n",
    "MSE_lr_test = mean_squared_error(predictions_test, y_test_rtt)\n",
    "\n",
    "### --- mean_absolute_error --- ###\n",
    "MAE_lr_train = mean_absolute_error(predictions_train, y_train_rtt)\n",
    "MAE_lr_val = mean_absolute_error(predictions_val, y_val_rtt)\n",
    "MAE_lr_test = mean_absolute_error(predictions_test, y_test_rtt)\n",
    "\n",
    "\n",
    "### --- print the results --- ###\n",
    "print(\"LINEAR REGRESSION EVALUATION:\")\n",
    "print(\"\\tTRAIN SET\")\n",
    "#print(\"\\t\\tMEAN SQUARED ERROR = %.2f s\" %(MSE_lassoRegression_train/1000))\n",
    "print(\"\\t\\tMEAN ABSOLUTE ERROR = %.2f s\" %(MAE_lr_train/1000))\n",
    "print(\"\\tVAL SET\")\n",
    "#print(\"\\t\\tMEAN SQUARED ERROR = %.2f s\" %(MSE_lassoRegression_val/1000))\n",
    "print(\"\\t\\tMEAN ABSOLUTE ERROR = %.2f s\" %(MAE_lr_val/1000))\n",
    "print(\"\\tTEST SET\")\n",
    "#print(\"\\t\\tMEAN SQUARED ERROR = %.2f s\" %(MSE_lassoRegression_test/1000))\n",
    "print(\"\\t\\tMEAN ABSOLUTE ERROR = %.2f s\" %(MAE_lr_test/1000))"
   ]
  }
 ],
 "metadata": {
  "kernelspec": {
   "display_name": "Python 3 (ipykernel)",
   "language": "python",
   "name": "python3"
  },
  "language_info": {
   "codemirror_mode": {
    "name": "ipython",
    "version": 3
   },
   "file_extension": ".py",
   "mimetype": "text/x-python",
   "name": "python",
   "nbconvert_exporter": "python",
   "pygments_lexer": "ipython3",
   "version": "3.7.12"
  }
 },
 "nbformat": 4,
 "nbformat_minor": 5
}
